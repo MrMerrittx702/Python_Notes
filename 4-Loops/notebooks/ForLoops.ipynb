{
 "cells": [
  {
   "cell_type": "markdown",
   "metadata": {},
   "source": [
    "# For Loops (without lists)\n",
    "\n",
    "Covered in this file:\n",
    "* Iteration Defined\n",
    "* Python indentation and Code Blocks\n",
    "* For Loop Syntax\n",
    "* range() constructor\n",
    "* Ascending: Counting Up by 1 and by multiples \n",
    "* Descending: Counting Down by 1 and by multiples\n",
    "* Special to Python: For-Else\n",
    "* For Each Loop\n",
    "* Off by 1 Errors\n",
    "* Throw away variable _\n",
    "* Nested For loops\n",
    "* Break, Continue, and Pass\n"
   ]
  },
  {
   "cell_type": "markdown",
   "metadata": {},
   "source": [
    "#### **Iteration Defined**\n",
    "* Iteration is the repetition of a process or function.\n",
    "* Iterables are data types that can return their values one at a time\n",
    "\n",
    "* Iteration can be thought of as looping or repeating*"
   ]
  },
  {
   "cell_type": "markdown",
   "metadata": {},
   "source": [
    "Iterable Types include, but are not limited too:\n",
    "* Strings <class 'str'>\n",
    "* Lists <class 'list'>\n",
    "* Tuples <class 'tuple'>\n",
    "* Sets <class 'set'>\n",
    "* Dictionaries <class 'dict'>\n",
    "* Iterators (classes that implement the \\_\\_iter\\_\\_ method)\n",
    "* Generators (a function that returns an iterator)\n"
   ]
  },
  {
   "cell_type": "markdown",
   "metadata": {},
   "source": [
    "Instead of this:"
   ]
  },
  {
   "cell_type": "code",
   "execution_count": null,
   "metadata": {},
   "outputs": [],
   "source": [
    "print(1)\n",
    "print(2)\n",
    "print(3)\n",
    "print(4)\n",
    "print(5)\n",
    "print(6)\n",
    "print(7)\n",
    "print(8)\n",
    "print(9)\n",
    "print(10)"
   ]
  },
  {
   "cell_type": "markdown",
   "metadata": {},
   "source": [
    "Try these:"
   ]
  },
  {
   "cell_type": "markdown",
   "metadata": {},
   "source": [
    "* While Loops (Iteration)"
   ]
  },
  {
   "cell_type": "code",
   "execution_count": null,
   "metadata": {},
   "outputs": [],
   "source": [
    "num = 1\n",
    "while (num <= 10):\n",
    "    print(num, end = \" \")\n",
    "    num += 1\n",
    "\n",
    "#Output: 1 2 3 4 5 6 7 8 9 10 "
   ]
  },
  {
   "cell_type": "markdown",
   "metadata": {},
   "source": [
    "* For Loops (Iteration)"
   ]
  },
  {
   "cell_type": "code",
   "execution_count": null,
   "metadata": {},
   "outputs": [],
   "source": [
    "for num in range(1,11,1):\n",
    "    print(num, end = \" \")\n",
    "\n",
    "#Output: 1 2 3 4 5 6 7 8 9 10 "
   ]
  },
  {
   "cell_type": "markdown",
   "metadata": {},
   "source": [
    "* Functions (Recursion)"
   ]
  },
  {
   "cell_type": "code",
   "execution_count": null,
   "metadata": {},
   "outputs": [],
   "source": [
    "def count(num, stop, step = 1): #Function Definition\n",
    "    if num <= stop:\n",
    "        print(num)\n",
    "        num += 1\n",
    "        count(num,stop,step)\n",
    "    return\n",
    "\n",
    "count(1,10) #Function Call\n",
    "\n",
    "#Output: 1 2 3 4 5 6 7 8 9 10 "
   ]
  },
  {
   "cell_type": "markdown",
   "metadata": {},
   "source": [
    "#### **Indentation and Code Blocks**\n",
    "* Indentation creates blocks of code, which are groups of statements that are executed together as a unit. \n",
    "* Each indentation level represents a higher level of code structure(conditionals, loops, functions, classes)\n",
    "* All statements within the same block must have the same level of indentation. \n",
    "\n",
    "* The end of a block is indicated by the decrease in indentation level. "
   ]
  },
  {
   "cell_type": "markdown",
   "metadata": {},
   "source": [
    "* Conditional Example"
   ]
  },
  {
   "cell_type": "code",
   "execution_count": null,
   "metadata": {},
   "outputs": [],
   "source": [
    "condition = True or False\n",
    "\n",
    "if(condition):\n",
    "    #start of the if code block (scope/context)\n",
    "    print(\"Inside the if statement\")\n",
    "\n",
    "#end of the if code block (scope/context)"
   ]
  },
  {
   "cell_type": "markdown",
   "metadata": {},
   "source": [
    "* While Loop Example"
   ]
  },
  {
   "cell_type": "code",
   "execution_count": null,
   "metadata": {},
   "outputs": [],
   "source": [
    "while(condition):\n",
    "    #start of the while code block (scope/context)\n",
    "    print(\"Inside the while loop\")\n",
    "\n",
    "#end of the while code block (scope/context)"
   ]
  },
  {
   "cell_type": "markdown",
   "metadata": {},
   "source": [
    "* For Loop Example"
   ]
  },
  {
   "cell_type": "code",
   "execution_count": null,
   "metadata": {},
   "outputs": [],
   "source": [
    "for _ in range(10):\n",
    "    #start of the for code block (scope/context)\n",
    "    print(\"Inside the for loop\")\n",
    "\n",
    "#end of the for code block (scope/context)"
   ]
  },
  {
   "cell_type": "markdown",
   "metadata": {},
   "source": [
    "* Function Example"
   ]
  },
  {
   "cell_type": "code",
   "execution_count": null,
   "metadata": {},
   "outputs": [],
   "source": [
    "def function_():\n",
    "    #start of the function code block (scope/context)\n",
    "    print(\"Inside of the function definition\")\n",
    "\n",
    "#end of the function code block (scope/context)"
   ]
  },
  {
   "cell_type": "markdown",
   "metadata": {},
   "source": [
    "* Class Example"
   ]
  },
  {
   "cell_type": "code",
   "execution_count": null,
   "metadata": {},
   "outputs": [],
   "source": [
    "class Class_():\n",
    "    #start of the class code block (scope/context)\n",
    "    \n",
    "    def __init__(self):\n",
    "        pass\n",
    "\n",
    "#end of the class code block (scope/context)"
   ]
  },
  {
   "cell_type": "markdown",
   "metadata": {},
   "source": [
    "* Nested Example"
   ]
  },
  {
   "cell_type": "code",
   "execution_count": null,
   "metadata": {},
   "outputs": [],
   "source": [
    "#Nested Indentation# Blocks inside of blocks\n",
    "def example_():\n",
    "    #start of function code block###########################\n",
    "    for _ in range(5):                                     #\n",
    "        #start of for code block++++++++++++++++++++++#    #\n",
    "        while(condition):                             #    #\n",
    "            #start of while code block============#   #    #      \n",
    "            if(condition):                        #   #    #\n",
    "                #Start of if code block ------#   #   #    #\n",
    "                print(\"So many indents!\")     #   #   #    #\n",
    "            #end of if code block-------------#   #   #    #\n",
    "        #end of while code block==================#   #    #\n",
    "    #end of for code block++++++++++++++++++++++++++++#    #\n",
    "#end of function code block#################################\n"
   ]
  },
  {
   "cell_type": "markdown",
   "metadata": {},
   "source": [
    "**Note on Indentation:**\n",
    "* Indentation is typically achieved using spaces or tabs. \n",
    "* Don't mix spaces and tabs, it can lead to syntax errors or inconsistent behavior. \n",
    "* Python 3 disallows mixing tabs and spaces for indentation in the same source file.\n",
    "\n",
    "* If you are using an editor like VS code using the tab key, and spaces is not a problem. "
   ]
  },
  {
   "cell_type": "markdown",
   "metadata": {},
   "source": [
    "#### **For Loop Syntax**\n",
    "* The 'for' keyword defines the start of a for loop\n",
    "* Each for loop has a loop variable that appears after the 'for' keyword\n",
    "* Each for loop in python uses the 'in' keyword after the loop variable\n",
    "    * It signifies the loop variable will take on each value from the iterable in turn\n",
    "* A for loop, iterates through an iterable type placed after the 'in' keyword\n",
    "\n",
    "* a ':' is used to indicate the start of the block of code to be repeated"
   ]
  },
  {
   "cell_type": "code",
   "execution_count": null,
   "metadata": {},
   "outputs": [],
   "source": [
    "iterable_object = range(5)\n",
    "\n",
    "for loop_variable in iterable_object: #This line is called the for loop header\n",
    "    #indent 4 spaces to be inside the loop block\n",
    "    'repeat this code block'\n",
    "#unindent 4 spaces to exit the loop block\n",
    "\n",
    "#--------------------------------------#\n",
    "for variable in iterable_object: #     #         \n",
    "    'repeat this code block'     #     #\n",
    "    #----------------------------#     #\n",
    "#--------------------------------------# "
   ]
  },
  {
   "cell_type": "markdown",
   "metadata": {},
   "source": [
    "An Example:"
   ]
  },
  {
   "cell_type": "code",
   "execution_count": null,
   "metadata": {},
   "outputs": [],
   "source": [
    "for num in range(5):\n",
    "    print(num, end = \" \")\n",
    "\n",
    "#Output: 0 1 2 3 4 "
   ]
  },
  {
   "cell_type": "markdown",
   "metadata": {},
   "source": [
    "#### **The range() constructor**\n",
    "* the range() constructor constructs a range object that is an iterable sequence of numbers\n",
    "* range() returns a range of number from start to stop-1"
   ]
  },
  {
   "cell_type": "markdown",
   "metadata": {},
   "source": [
    "* The range() constructor has 3 parameters (start, stop, step)\n",
    "    * These parameters define the range of numbers that is constructed\n",
    "    * The 'start' is always included in the range\n",
    "    * The 'stop' is always excluded, thus the last number in the range is stop-1 for ascending ranges, and stop+1 for descending ranges"
   ]
  },
  {
   "cell_type": "code",
   "execution_count": null,
   "metadata": {},
   "outputs": [],
   "source": [
    "start,stop,step = ... #just place holders\n",
    "\n",
    "'The range() constructor has 3 parameters (start, stop, step)'\n",
    "#returns a range of numbers from start to stop-1. \n",
    "range(start, stop, step)\n",
    "\n",
    "#example\n",
    "range(0,11,1) # Returns: a range from 0 to 10 by 1s"
   ]
  },
  {
   "cell_type": "markdown",
   "metadata": {},
   "source": [
    "The default start value is 0:\n",
    "* Only works for ascending ranges where the step is 1"
   ]
  },
  {
   "cell_type": "code",
   "execution_count": null,
   "metadata": {},
   "outputs": [],
   "source": [
    "stop = ... #place holder\n",
    "\n",
    "'The range() constructor has 3 parameters (start, stop, step)'\n",
    "#returns a range of numbers from start to stop-1. \n",
    "range(stop)\n",
    "\n",
    "#examples\n",
    "range(11) # Returns: a range from 0 to 10 by 1s\n",
    "range(6) # Returns: a range from 0 to 5 by 1s\n",
    "range(30) # Returns: a range from 0 to 29 by 1s"
   ]
  },
  {
   "cell_type": "markdown",
   "metadata": {},
   "source": [
    "The default step is 1\n",
    "* This means ranges by default are ascending, you must specify both the start and step to create descending ranges"
   ]
  },
  {
   "cell_type": "code",
   "execution_count": null,
   "metadata": {},
   "outputs": [],
   "source": [
    "start,stop= ... #just place holders\n",
    "\n",
    "'The range() constructor has 3 parameters (start, stop, step)'\n",
    "#returns a range of numbers from start to stop-1. \n",
    "range(start, stop)\n",
    "\n",
    "#examples\n",
    "range(5,20) # Returns: a range from 5 to 19 by 1s\n",
    "range(50,67) # Returns: a range from 50 to 66 by 1s\n",
    "range(100,1001) # Returns: a range from 100 to 1000 by 1s"
   ]
  },
  {
   "cell_type": "markdown",
   "metadata": {},
   "source": [
    "Other range examples:"
   ]
  },
  {
   "cell_type": "code",
   "execution_count": null,
   "metadata": {},
   "outputs": [],
   "source": [
    "#start is included (default is 0)\n",
    "#stop is not included (+1 if going up or -1 if going down)\n",
    "#step (default is 1)\n",
    "\n",
    "range(0,10,1) # Returns: a range from 0 to 9 by 1s\n",
    "range(10) # Returns: a range from 0 to 9 by 1s\n",
    "range(10,0,-1) # Returns: a range from 10 to 1 by 1s\n",
    "range(-5,6,1) # Returns: a range from -5 to 5 by 1s\n",
    "range(5,-6,-1)# Returns: a range from 5 to -5 by 1s"
   ]
  },
  {
   "cell_type": "markdown",
   "metadata": {},
   "source": [
    "#### **Ascending: Counting up by 1 and by Multiples**"
   ]
  },
  {
   "cell_type": "markdown",
   "metadata": {},
   "source": [
    "* General Syntax for Counting with For Loops"
   ]
  },
  {
   "cell_type": "code",
   "execution_count": null,
   "metadata": {},
   "outputs": [],
   "source": [
    "for number in range(start,stop,step): #header\n",
    "    print(number, end = \" \")#prints the value of number, and  adds a single space"
   ]
  },
  {
   "cell_type": "markdown",
   "metadata": {},
   "source": [
    "* Example: From 0 to Positive by 1s"
   ]
  },
  {
   "cell_type": "code",
   "execution_count": null,
   "metadata": {},
   "outputs": [],
   "source": [
    "#count from 0 to 10\n",
    "for number in range(11): #start = 0; default step = +1 \n",
    "    print(number, end = \" \")\n",
    "#Output: 0 1 2 3 4 5 6 7 8 9 10 \n",
    "\n",
    "for number in range(0,11,1): \n",
    "    print(number, end = \" \")\n",
    "#Output: 0 1 2 3 4 5 6 7 8 9 10 "
   ]
  },
  {
   "cell_type": "markdown",
   "metadata": {},
   "source": [
    "* Example: From 0 to Postive by Multiples"
   ]
  },
  {
   "cell_type": "code",
   "execution_count": null,
   "metadata": {},
   "outputs": [],
   "source": [
    "#count from 0 to 10 by 3\n",
    "for number in range(0,11,3): \n",
    "    print(number, end = \" \")\n",
    "#Output: 0 3 6 9"
   ]
  },
  {
   "cell_type": "markdown",
   "metadata": {},
   "source": [
    "* Example: From 1 to Positive by 1s"
   ]
  },
  {
   "cell_type": "code",
   "execution_count": null,
   "metadata": {},
   "outputs": [],
   "source": [
    "#count from 1 to 5 \n",
    "for number in range(1,6): #step = +1; default\n",
    "    print(number, end = \" \")\n",
    "#Output: 1 2 3 4 5\n",
    "\n",
    "for number in range(1,6,1): \n",
    "    print(number, end = \" \")\n",
    "#Output: 1 2 3 4 5"
   ]
  },
  {
   "cell_type": "markdown",
   "metadata": {},
   "source": [
    "* Example: From 1 to Postive by Multiples"
   ]
  },
  {
   "cell_type": "code",
   "execution_count": null,
   "metadata": {},
   "outputs": [],
   "source": [
    "#count from 1 to 5 by 2\n",
    "for number in range(1,6,2): \n",
    "    print(number, end = \" \")\n",
    "#Output: 1 3 5"
   ]
  },
  {
   "cell_type": "markdown",
   "metadata": {},
   "source": [
    "* Example: From Positive to Positive by 1s"
   ]
  },
  {
   "cell_type": "code",
   "execution_count": null,
   "metadata": {},
   "outputs": [],
   "source": [
    "#count from 70 to 80\n",
    "for number in range(70,81): #step = +1; default \n",
    "    print(number, end = \" \")\n",
    "#Output: 70 71 72 73 74 75 76 77 78 79 80\n",
    "\n",
    "for number in range(70,81,1): \n",
    "    print(number, end = \" \")\n",
    "#Output: 70 71 72 73 74 75 76 77 78 79 80"
   ]
  },
  {
   "cell_type": "markdown",
   "metadata": {},
   "source": [
    "* Example: From Positive to Positive by Multiples"
   ]
  },
  {
   "cell_type": "code",
   "execution_count": null,
   "metadata": {},
   "outputs": [],
   "source": [
    "#count from 70 to 100 by 5\n",
    "for number in range(70,101,5): \n",
    "    print(number, end = \" \")\n",
    "#Output: 70 75 80 85 90 95 100"
   ]
  },
  {
   "cell_type": "markdown",
   "metadata": {},
   "source": [
    "* Example: From Negative to Negative by 1s"
   ]
  },
  {
   "cell_type": "code",
   "execution_count": null,
   "metadata": {},
   "outputs": [],
   "source": [
    "#count -35 to -24\n",
    "for number in range(-35,-24): #step = +1; default\n",
    "    print(number, end = \" \")\n",
    "#Output: -35 -34 -33 -32 -31 -30 -29 -28 -27 -26 -25\n",
    "  \n",
    "for number in range(-35,-24,1):\n",
    "    print(number, end = \" \")\n",
    "#Output: -35 -34 -33 -32 -31 -30 -29 -28 -27 -26 -25"
   ]
  },
  {
   "cell_type": "markdown",
   "metadata": {},
   "source": [
    "* Example: From Negative to Negative by Multiples"
   ]
  },
  {
   "cell_type": "code",
   "execution_count": null,
   "metadata": {},
   "outputs": [],
   "source": [
    "#count from -100 to -10 by 10\n",
    "for number in range(-100,-9,10):\n",
    "    print(number, end = \" \")\n",
    "#Output: -100 -90 -80 -70 -60 -50 -40 -30 -20 -10"
   ]
  },
  {
   "cell_type": "markdown",
   "metadata": {},
   "source": [
    "* Example: From Negative to Positive by 1s"
   ]
  },
  {
   "cell_type": "code",
   "execution_count": null,
   "metadata": {},
   "outputs": [],
   "source": [
    "#count from -5 to 5\n",
    "for number in range(-5,6): #step = +1; default\n",
    "    print(number, end = \" \")\n",
    "#Output: -5 -4 -3 -2 -1 0 1 2 3 4 5\n",
    "\n",
    "for number in range(-5,6,1):\n",
    "    print(number, end = \" \")\n",
    "#Output: -5 -4 -3 -2 -1 0 1 2 3 4 5"
   ]
  },
  {
   "cell_type": "markdown",
   "metadata": {},
   "source": [
    "* Example: From Negative to Positive by Multiples"
   ]
  },
  {
   "cell_type": "code",
   "execution_count": null,
   "metadata": {},
   "outputs": [],
   "source": [
    "#count from -5 to 5 by 4\n",
    "for number in range(-5,6,4):\n",
    "    print(number, end = \" \")\n",
    "#Output: -5 -1 3"
   ]
  },
  {
   "cell_type": "markdown",
   "metadata": {},
   "source": [
    "#### **Descending: Counting Down by 1 and by Multiples**\n"
   ]
  },
  {
   "cell_type": "markdown",
   "metadata": {},
   "source": [
    "* Example: From Positive to 0 by 1s"
   ]
  },
  {
   "cell_type": "code",
   "execution_count": null,
   "metadata": {},
   "outputs": [],
   "source": [
    "#count from 10 to 0 \n",
    "for number in range(10,-1,-1):\n",
    "    print(number, end = \" \")\n",
    "#Output: 10 9 8 7 6 5 4 3 2 1 0"
   ]
  },
  {
   "cell_type": "markdown",
   "metadata": {},
   "source": [
    "* Example: From Positive to 0 by Multiples"
   ]
  },
  {
   "cell_type": "code",
   "execution_count": null,
   "metadata": {},
   "outputs": [],
   "source": [
    "#count from 10 to 0 by 3\n",
    "for number in range(10,-1,-3):\n",
    "    print(number, end = \" \")\n",
    "#Output: 10 7 4 1 0"
   ]
  },
  {
   "cell_type": "markdown",
   "metadata": {},
   "source": [
    "* Example: From Positive to Positive by 1s"
   ]
  },
  {
   "cell_type": "code",
   "execution_count": null,
   "metadata": {},
   "outputs": [],
   "source": [
    "#count from 50 to 40\n",
    "for number in range(50,39,-1):\n",
    "    print(number, end = \" \")\n",
    "#Output: 50 49 48 47 46 45 44 43 42 41 40"
   ]
  },
  {
   "cell_type": "markdown",
   "metadata": {},
   "source": [
    "* Example: From Positive to Positive by Multiples"
   ]
  },
  {
   "cell_type": "code",
   "execution_count": null,
   "metadata": {},
   "outputs": [],
   "source": [
    "#count from 100 to 50 by 5s\n",
    "for number in range(100,49,-5):\n",
    "    print(number, end = \" \")\n",
    "#Output: 100 95 90 85 80 75 70 65 60 55 50"
   ]
  },
  {
   "cell_type": "markdown",
   "metadata": {},
   "source": [
    "* Example: From 0 to Negative by 1s"
   ]
  },
  {
   "cell_type": "code",
   "execution_count": null,
   "metadata": {},
   "outputs": [],
   "source": [
    "#count from 0 to -10 \n",
    "for number in range(0,-11,-1):\n",
    "    print(number, end = \" \")\n",
    "#Output: 0 -1 -2 -3 -4 -5 -6 -7 -8 -9 -10"
   ]
  },
  {
   "cell_type": "markdown",
   "metadata": {},
   "source": [
    "* Example: From 0 to Negative by Multiples"
   ]
  },
  {
   "cell_type": "code",
   "execution_count": null,
   "metadata": {},
   "outputs": [],
   "source": [
    "#count from 0 to -100 by 20\n",
    "for number in range(0,-101,-20):\n",
    "    print(number, end = \" \")\n",
    "#Output: 0 -20 -40 -60 -80 -100"
   ]
  },
  {
   "cell_type": "markdown",
   "metadata": {},
   "source": [
    "* Example: From Positive to Negative by 1s"
   ]
  },
  {
   "cell_type": "code",
   "execution_count": null,
   "metadata": {},
   "outputs": [],
   "source": [
    "#count from 5 to -5\n",
    "for number in range(5,-6,-1):\n",
    "    print(number, end = \" \")\n",
    "#Output: 5 4 3 2 1 0 -1 -2 -3 -4 -5"
   ]
  },
  {
   "cell_type": "markdown",
   "metadata": {},
   "source": [
    "* Example: From Positive to Negative by Multiples"
   ]
  },
  {
   "cell_type": "code",
   "execution_count": null,
   "metadata": {},
   "outputs": [],
   "source": [
    "#count from 100 to -100 by 50\n",
    "for number in range(100,-101,-50):\n",
    "    print(number, end = \" \")\n",
    "#Output: 100 50 0 -50 -100"
   ]
  },
  {
   "cell_type": "markdown",
   "metadata": {},
   "source": [
    "* Example: From Negative to Negative 1s"
   ]
  },
  {
   "cell_type": "code",
   "execution_count": null,
   "metadata": {},
   "outputs": [],
   "source": [
    "#count from -85 to -95\n",
    "for number in range(-85,-96,-1):\n",
    "    print(number, end = \" \")\n",
    "#Output: -85 -86 -87 -88 -89 -90 -91 -92 -93 -94 -95"
   ]
  },
  {
   "cell_type": "markdown",
   "metadata": {},
   "source": [
    "* Example: From Negative to Negative Mutliples"
   ]
  },
  {
   "cell_type": "code",
   "execution_count": null,
   "metadata": {},
   "outputs": [],
   "source": [
    "#count from -200 to -1500 by 100\n",
    "for number in range(-200,-1501,-100):\n",
    "    print(number, end = \" \")\n",
    "#Output: -200 -300 -400 -500 -600 -700 -800 -900 -1000 -1100 -1200 -1300 -1400 -1500"
   ]
  },
  {
   "cell_type": "markdown",
   "metadata": {},
   "source": [
    "#### **Special to Python: For-Else**\n",
    "* A for loop can include an else block\n",
    "* The else block is executed when the for loop ends"
   ]
  },
  {
   "cell_type": "code",
   "execution_count": null,
   "metadata": {},
   "outputs": [],
   "source": [
    "for number in range(1,11,1):\n",
    "    print(number, end = \" \")\n",
    "else:\n",
    "    print(\"\\nDone Printing!\")\n",
    "\n",
    "#Output:\n",
    "# 1 2 3 4 5 6 7 8 9 10\n",
    "# Done Printing!"
   ]
  },
  {
   "cell_type": "markdown",
   "metadata": {},
   "source": [
    "#### **The For-Each Loop**\n",
    "* for loops can also be used to directly loop through iterable types\n",
    "* a for-each loop iterates through the elements of an iterable"
   ]
  },
  {
   "cell_type": "code",
   "execution_count": null,
   "metadata": {},
   "outputs": [],
   "source": [
    "iterable = ... #place holder\n",
    "\n",
    "#Syntax\n",
    "for variable in iterable:\n",
    "    'code block to execute'\n",
    "#iterables are something that can be repeated through \n",
    "# strings, lists, tuples, sets, dictionaries, etc. are iterable"
   ]
  },
  {
   "cell_type": "code",
   "execution_count": null,
   "metadata": {},
   "outputs": [],
   "source": [
    "string = \"abcdefghijklmnopqrstuvwxyz\"\n",
    "\n",
    "for character in string:\n",
    "    print(character, end = \" \")\n",
    "\n",
    "#Output: a b c d e f g h i j k l m n o p q r s t u v w x y z "
   ]
  },
  {
   "cell_type": "code",
   "execution_count": null,
   "metadata": {},
   "outputs": [],
   "source": [
    "list1d = [\"list\",\"tuple\",\"set\",\"dictionary\",\"iterators\"]\n",
    "\n",
    "#element does not represent an index, but the actual element. \n",
    "for element in list1d:\n",
    "    print(element, end = \" \")\n",
    "\n",
    "#Output: list tuple set dictionary iterators "
   ]
  },
  {
   "cell_type": "code",
   "execution_count": null,
   "metadata": {},
   "outputs": [],
   "source": [
    "tuple1d = (\"list\",\"tuple\",\"set\",\"dictionary\",\"iterators\")\n",
    "\n",
    "#element does not represent an index, but the actual element. \n",
    "for element in tuple1d:\n",
    "    print(element, end = \" \")\n",
    "\n",
    "#Output: list tuple set dictionary iterators "
   ]
  },
  {
   "cell_type": "code",
   "execution_count": null,
   "metadata": {},
   "outputs": [],
   "source": [
    "set1d = {\"list\",\"tuple\",\"set\",\"dictionary\",\"iterators\"}\n",
    "\n",
    "#element does not represent an index, but the actual element. \n",
    "for element in set1d:\n",
    "    print(element, end = \" \")\n",
    "\n",
    "#Output order will vary with a set: \n",
    "# Output: list tuple set dictionary iterators "
   ]
  },
  {
   "cell_type": "code",
   "execution_count": null,
   "metadata": {},
   "outputs": [],
   "source": [
    "dictionary = {\"list\":None,\"tuple\":None,\"set\":None,\"dictionary\":None,\"iterators\":None}\n",
    "\n",
    "for key in dictionary.keys():\n",
    "    print(key, end = \" \")\n",
    "\n",
    "#Output: list tuple set dictionary iterators"
   ]
  },
  {
   "cell_type": "markdown",
   "metadata": {},
   "source": [
    "Example Use Case: Sum of a List of Integers"
   ]
  },
  {
   "cell_type": "code",
   "execution_count": null,
   "metadata": {},
   "outputs": [],
   "source": [
    "nums = [1,2,3,4,5]\n",
    "\n",
    "sum = 0\n",
    "for num in nums:\n",
    "    sum += num\n",
    "\n",
    "print(sum)\n",
    "\n",
    "#Output: 15"
   ]
  },
  {
   "cell_type": "markdown",
   "metadata": {},
   "source": [
    "#### **Off by 1 Errors**\n",
    "* Off-by-one errors occur when a loop iterates one too \n",
    "many or one too few times, typically due to incorrect \n",
    "indexing or boundary conditions."
   ]
  },
  {
   "cell_type": "code",
   "execution_count": null,
   "metadata": {},
   "outputs": [],
   "source": [
    "# Suppose we want to print numbers from 1 to 5\n",
    "# but mistakenly use range(6) which includes 0 to 5\n",
    "for i in range(6):\n",
    "    print(i)\n",
    "\n",
    "#Output:\n",
    "# 0\n",
    "# 1\n",
    "# 2\n",
    "# 3\n",
    "# 4\n",
    "# 5\n"
   ]
  },
  {
   "cell_type": "markdown",
   "metadata": {},
   "source": [
    "#### **Throw away variable _**\n",
    "* sometimes we don't need the loop variable, but still need a place holder\n",
    "* use an underscore _ as a throw away (unused) variable"
   ]
  },
  {
   "cell_type": "code",
   "execution_count": null,
   "metadata": {},
   "outputs": [],
   "source": [
    "# We don't actually use the loop variable in this loop.\n",
    "for _ in range(5):\n",
    "    print(\"Looping...\")\n",
    "\n",
    "#Output:\n",
    "# Looping...\n",
    "# Looping...\n",
    "# Looping...\n",
    "# Looping...\n",
    "# Looping..."
   ]
  },
  {
   "cell_type": "markdown",
   "metadata": {},
   "source": [
    "#### **Nested For Loops**\n",
    "* Placing on for loop inside of another creates a nested for loop\n",
    "* The inner for loop fully executes for every 1 iteration of the outer loop\n"
   ]
  },
  {
   "cell_type": "code",
   "execution_count": null,
   "metadata": {},
   "outputs": [],
   "source": [
    "#Syntax\n",
    "for variable_1 in range():\n",
    "    #indent 4 spaces to be inside the outer loop block\n",
    "    for variable_2 in range():\n",
    "        #indent 4 spaces to be inside the inner loop block\n",
    "        'repeat this code block'\n",
    "    #unindent to exit the inner loop block\n",
    "#unindent to exit the outer loop block\n",
    "\n",
    "#----------------------------------------------#\n",
    "for variable_1 in range(): #--------------#    #\n",
    "                                          #    #\n",
    "    for variable_2 in range(): #------#   #    # \n",
    "        'repeat the code block'       #   #    #\n",
    "        #-----------------------------#   #    #\n",
    "  #---------------------------------------#    #\n",
    "#----------------------------------------------#"
   ]
  },
  {
   "cell_type": "markdown",
   "metadata": {},
   "source": [
    "Examples:"
   ]
  },
  {
   "cell_type": "code",
   "execution_count": null,
   "metadata": {},
   "outputs": [],
   "source": [
    "for repeat in range(3):# repeat 3 times\n",
    "    for number in range(0,5,1):# 0 to 4 by 1s\n",
    "        print(number, end = \" \")\n",
    "    print() #added to format output\n",
    "#output:\n",
    "# 0 1 2 3 4 \n",
    "# 0 1 2 3 4 \n",
    "# 0 1 2 3 4 \n",
    "\n",
    "for repeat in range(2):# repeat 2 times\n",
    "    for number in range(0,101,20):# 0 to 100 by 20s\n",
    "        print(number, end = \" \")\n",
    "    print() #added to format output\n",
    "#output:\n",
    "# 0 20 40 60 80 100 \n",
    "# 0 20 40 60 80 100 \n",
    "\n",
    "for repeat in range(4):# repeat 4 times\n",
    "    for number in range(5,-6,-1):# 5 to -5 by 1s\n",
    "        print(number, end = \" \")\n",
    "    print() #added to format output\n",
    "#output:\n",
    "# 5 4 3 2 1 0 -1 -2 -3 -4 -5\n",
    "# 5 4 3 2 1 0 -1 -2 -3 -4 -5\n",
    "# 5 4 3 2 1 0 -1 -2 -3 -4 -5\n",
    "# 5 4 3 2 1 0 -1 -2 -3 -4 -5\n",
    "# 5 4 3 2 1 0 -1 -2 -3 -4 -5\n",
    "\n",
    "for repeat in range(4):# repeat 4 times\n",
    "    for number in range(20,9,-2):# 20 to 10 by 2s\n",
    "        print(number, end = \" \")\n",
    "    print() #added to format output\n",
    "#output:\n",
    "# 20 18 16 14 12 10 \n",
    "# 20 18 16 14 12 10\n",
    "# 20 18 16 14 12 10\n",
    "# 20 18 16 14 12 10"
   ]
  },
  {
   "cell_type": "markdown",
   "metadata": {},
   "source": [
    "#### **Break, Continue and Pass Keywords**"
   ]
  },
  {
   "cell_type": "markdown",
   "metadata": {},
   "source": [
    "**Break**\n",
    "* The break statement in Python is used to exit (or \"break out of\") the loop prematurely. \n",
    "* It is commonly used within loops like for and while to interrupt the loop's execution based on a certain condition."
   ]
  },
  {
   "cell_type": "markdown",
   "metadata": {},
   "source": [
    "Example: Checking Prime Numbers"
   ]
  },
  {
   "cell_type": "code",
   "execution_count": null,
   "metadata": {},
   "outputs": [],
   "source": [
    "for n in range(2,10):\n",
    "    for x in range(2,n):\n",
    "        if n % x == 0:\n",
    "            print(n,\"equals\",x,\"*\",n//x)\n",
    "            break\n",
    "    #loop fell through without finding a factor\n",
    "    else:\n",
    "        print(n,\"is a prime number\")\n",
    "#the loop will exit on the first loop"
   ]
  },
  {
   "cell_type": "markdown",
   "metadata": {},
   "source": [
    "**Continue**\n",
    "* The continue statement in Python is used to skip the rest of the code \n",
    "inside a loop for the current iteration, and continue with the next iteration \n",
    "of the loop."
   ]
  },
  {
   "cell_type": "code",
   "execution_count": null,
   "metadata": {},
   "outputs": [],
   "source": [
    "#Not printing values divisible by 7\n",
    "for x in range(50):\n",
    "    if(x % 7 == 0):\n",
    "        continue #skips the rest of the code block, and starts the next loop.\n",
    "    else:\n",
    "        print(x)"
   ]
  },
  {
   "cell_type": "markdown",
   "metadata": {},
   "source": [
    "**Pass**\n",
    "* The 'pass' keyword is used as a placeholder to prevent syntax errors, but does not perform any other function."
   ]
  },
  {
   "cell_type": "code",
   "execution_count": null,
   "metadata": {},
   "outputs": [],
   "source": [
    "for num in range(100):\n",
    "    pass"
   ]
  },
  {
   "cell_type": "markdown",
   "metadata": {},
   "source": [
    "Vocabulary:\n",
    "\n",
    "Break  \n",
    "Condition  \n",
    "Continue  \n",
    "For Loop  \n",
    "Iterable  \n",
    "Iteration  \n",
    "Iterator  \n",
    "Nesting  \n",
    "Syntax  \n",
    "\n",
    "\n",
    "Break:  \n",
    "Break is a control flow statement used in loop constructs to exit the loop prematurely. \n",
    "When a break statement is encountered within a loop, the loop is immediately terminated, and the program execution continues with the statement following the loop.\n",
    "\n",
    "Condition:  \n",
    "A condition is a statement or expression that evaluates to a boolean value (either true or false). \n",
    "Conditions are used to control the flow of execution in a program, determining which blocks of code are executed based on whether the condition is true or false.\n",
    "\n",
    "Continue:  \n",
    "Continue is a control flow statement used in loop constructs to skip the remaining code within the current iteration of the loop and move to the next iteration. \n",
    "When a continue statement is encountered, the loop proceeds to the next iteration without executing the remaining code in the loop body.\n",
    "\n",
    "For Loop:  \n",
    "A for loop is a control flow statement used to iterate over a sequence of elements or execute a block of code a fixed number of times. \n",
    "It typically iterates over an iterable object, such as a list, tuple, or range, and executes the loop body for each element or iteration.\n",
    "\n",
    "Iterable:  \n",
    "An iterable is an object that can be iterated over, allowing its elements to be accessed sequentially. \n",
    "Examples of iterables include lists, tuples, sets, dictionaries, strings, and custom iterable objects. \n",
    "Iterables can be used in for loops and other iterable operations.\n",
    "\n",
    "Iteration:  \n",
    "Iteration is the process of repeatedly executing a set of instructions or operations, typically over a sequence of elements or until a certain condition is met. \n",
    "It involves looping constructs like for loops, while loops, or iterators.\n",
    "\n",
    "Iterator:  \n",
    "An iterator is an object used to traverse or iterate over the elements of an iterable object. \n",
    "It maintains state information about the current position within the iterable and provides methods for accessing the next element. \n",
    "Iterators are used internally by for loops and other iterable operations.\n",
    "\n",
    "Nesting:  \n",
    "Nesting refers to the practice of placing one construct or block of code inside another. \n",
    "It involves encapsulating code within other code blocks, such as loops inside loops or conditional statements inside other conditionals.\n",
    "\n",
    "Syntax:  \n",
    "Syntax refers to the rules and structure governing the arrangement of elements in a programming language. \n",
    "It defines the correct grammar and punctuation required for valid code, ensuring that programs can be interpreted or compiled correctly. Syntax includes keywords, operators, punctuation, and rules for constructing statements and expressions.\n"
   ]
  }
 ],
 "metadata": {
  "language_info": {
   "name": "python"
  }
 },
 "nbformat": 4,
 "nbformat_minor": 2
}
