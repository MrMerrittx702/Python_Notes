{
 "cells": [
  {
   "cell_type": "markdown",
   "id": "7cfa7001",
   "metadata": {},
   "source": [
    "# Data "
   ]
  },
  {
   "cell_type": "markdown",
   "id": "eaf91352",
   "metadata": {},
   "source": [
    "## Data Types\n",
    "* **Literal Data**: actual values that do not represent anything else\n",
    "\n",
    "#### Beginner Data Types"
   ]
  },
  {
   "cell_type": "code",
   "execution_count": null,
   "id": "6d7fc2b9",
   "metadata": {},
   "outputs": [],
   "source": [
    "#Literals (are actual values)(they do not represent something else)\n",
    "True          # boolean (True or False)\n",
    "5             # integer (whole number)\n",
    "3.14          # float (decimal number)\n",
    "\"a\"           # character (single symbol) in quotes use \"\" or ''\n",
    "\"Hello World\" # String (text) in quotes use \"\" or '' \n",
    "\n",
    "[\"a\",\"b\",\"c\"] # list (contains multiple items called elements)\n",
    "# 0   1   2   # indexes (are used to access each element)\n",
    "\n",
    "#There are more data types but these are the main types for beginners."
   ]
  },
  {
   "cell_type": "markdown",
   "id": "619f60aa",
   "metadata": {},
   "source": [
    "#### All Data Types\n",
    "\n",
    "Data types can be classified into two groups: Mutable Data, and Immutable Data  \n",
    "* **Mutable Data:** the data can be changed\n",
    "    * ie. Lists, Sets, Dictionaries\n",
    "\n",
    "* **Immutable Data:** the data cannot be changed\n",
    "    * ie. number types, booleans, strings, tuples\n",
    "    \n"
   ]
  },
  {
   "cell_type": "markdown",
   "id": "cd735e65",
   "metadata": {},
   "source": [
    "Determining Type of Data: builtin *type()* function call"
   ]
  },
  {
   "cell_type": "code",
   "execution_count": null,
   "id": "81e5bec1",
   "metadata": {},
   "outputs": [],
   "source": [
    "#The type() function returns the type of data passed to it.\n",
    "type()\n",
    "# type() requires an argument in order to determine the type.\n",
    "\n",
    "type(None)                   #<class 'NoneType'>\n",
    "type(True)                   # <class 'bool'>\n",
    "type(5)                      # <class 'int'>\n",
    "type(3.14)                   # <class 'float'>\n",
    "type(1j)                     # <class 'complex'>\n",
    "type(\"a\")                    # <class 'str'>\n",
    "type(\"Hello\")                # <class 'str'>\n",
    "type([\"a\",\"b\",\"c\"])          # <class 'list'>\n",
    "type((\"a\",\"b\",\"c\"))          # <class 'tuple'>\n",
    "type({\"a\",\"b\",\"c\"})          # <class 'set'>\n",
    "type({\"a\":97,\"b\":98,\"c\":99}) # <class 'dict'>"
   ]
  },
  {
   "cell_type": "code",
   "execution_count": null,
   "id": "9adff518",
   "metadata": {},
   "outputs": [],
   "source": [
    "#For large numbers you can use underscores(_) to make them more readable\n",
    "1_000_000_000 #1000000000 --> Notice it doesn't output with the underscores\n",
    "\n",
    "# Scientific notation is also available use E to represent (x 10^)\n",
    "1E9 #1000000000.0 --> Notice it returns a float\n",
    "\n",
    "1j               # Complex Numbers (j replaces i as the imaginary unit--> sqrt(-1) imaginary numbers)\n",
    "(\"a\",\"b\",\"c\")    # Tuples a collection which is ordered, immutable and allows duplicate members.\n",
    "{\"a\",\"b\",\"c\"}    # Sets a collection which is unordered, unchangeable*,unindexed, and allows NO duplicate members.\n",
    "{\"a\":97,\"b\":98 } # Dictionaries are a collection of key:value pairs; they are ordered**, mutable, and allows NO duplicate members.\n",
    "\n",
    "#Additional data types are defined by classes, here are a few examples:\n",
    "range(5)            # Ranges represent a sequence of numbers \n",
    "bytearray(b'hello') # Byte Arrays are mutable sequences of bytes\n",
    "None                # Null type meaning nothing"
   ]
  },
  {
   "cell_type": "markdown",
   "id": "ca17c434",
   "metadata": {},
   "source": [
    "## Data Literals\n",
    "* Literal: refers to a notation for representing a fixed actual value\n",
    "* Literals do not represent something else"
   ]
  },
  {
   "cell_type": "markdown",
   "id": "f29e666c",
   "metadata": {},
   "source": [
    "**Null Literals <class 'NoneType'>**\n",
    "* Null means nothing or having no value"
   ]
  },
  {
   "cell_type": "code",
   "execution_count": null,
   "metadata": {},
   "outputs": [],
   "source": [
    "None #Null type in python"
   ]
  },
  {
   "cell_type": "markdown",
   "id": "adfd84eb",
   "metadata": {},
   "source": [
    "**Boolean Literals <class 'bool'>**\n",
    "* Booleans have two states, usually represented as True or False"
   ]
  },
  {
   "cell_type": "code",
   "execution_count": null,
   "id": "6dfe7663",
   "metadata": {},
   "outputs": [],
   "source": [
    "True              # boolean literal\n",
    "False             # boolean literal"
   ]
  },
  {
   "cell_type": "markdown",
   "id": "d0985ff2",
   "metadata": {},
   "source": [
    "**Integer Literals <class 'int'>**\n",
    "* Integers are whole numbers, meaning they have no fractional parts"
   ]
  },
  {
   "cell_type": "code",
   "execution_count": null,
   "id": "f2c69150",
   "metadata": {},
   "outputs": [],
   "source": [
    "0                 # integer literal\n",
    "1                 # integer literal\n",
    "-1                # integer literal\n",
    "10                # integer literal\n",
    "100               # integer literal\n",
    "50239             # integer literal\n",
    "12                # integer literal\n",
    "-11               # integer literal"
   ]
  },
  {
   "cell_type": "markdown",
   "id": "8bf24bbe",
   "metadata": {},
   "source": [
    "**Float Literals <class 'float'>**\n",
    "* Floats or floating point numbers are fractional numbers named after the point (.) used to destinguish the whole from the fractional part of the number."
   ]
  },
  {
   "cell_type": "code",
   "execution_count": null,
   "id": "4fe6a916",
   "metadata": {},
   "outputs": [],
   "source": [
    "1.12            #float literal\n",
    "2.71            #float literal\n",
    "3.141592653589  #float literal\n",
    "6.023           #float literal\n",
    "-10.1           #float literal\n",
    "-78.91          #float literal"
   ]
  },
  {
   "cell_type": "markdown",
   "id": "cd1e5484",
   "metadata": {},
   "source": [
    "**Complex Literals <class 'complex'>**\n",
    "* Complex numbers have a real and an imaginary part (i or sqrt(-1))\n",
    "* In python i is replaced with j for complex numbers"
   ]
  },
  {
   "cell_type": "code",
   "execution_count": null,
   "id": "32caf6b9",
   "metadata": {},
   "outputs": [],
   "source": [
    "3 + 2j      # complex literal \n",
    "-1 + 5j     # complex literal \n",
    "0 + 7j      # complex literal \n",
    "4 - 3j      # complex literal \n",
    "-2 - 6j     # complex literal \n",
    "1 + 0j      # This is a real number but represented as a complex number\n",
    "2 - 4j      # complex literal \n",
    "-3 + 8j     # complex literal \n",
    "6 - 2j      # complex literal \n",
    "2 + 2j      # complex literal       "
   ]
  },
  {
   "cell_type": "markdown",
   "id": "047870cc",
   "metadata": {},
   "source": [
    "**Character Literals <class 'str'>**\n",
    "* Characters are single units of text, such as a letter, digit, punctuation mark, symbol, or whitespace\n",
    "* Characters in python are single length strings"
   ]
  },
  {
   "cell_type": "code",
   "execution_count": null,
   "id": "5232814c",
   "metadata": {},
   "outputs": [],
   "source": [
    "'A'   # Uppercase letter character literal\n",
    "'b'   # Lowercase letter character literal\n",
    "'5'   # Digit character literal\n",
    "'@'   # At character literal\n",
    "'%'   # Percent character literal\n",
    "' '   # Whitespace character literal\n",
    "'\\n'  # Newline character literal\n",
    "'\\t'  # Tab character literal\n",
    "'['   # Left Square Bracket character literal\n",
    "']'   # Right Square Bracket character literal"
   ]
  },
  {
   "cell_type": "markdown",
   "id": "fc0b4bc4",
   "metadata": {},
   "source": [
    "**List Literals <class 'list'>**\n",
    "* A list is a collection of comma seperated data that is ordered, mutable, and allows duplicate members.\n",
    "* Ordered meaning indexed\n",
    "* Mutable meaning its value can be changed\n",
    "* Duplicate members meaning values can be the same.\n",
    "* Each item stored in a list is called an element\n",
    "\n",
    "Lists are denoted with square brackets []\n"
   ]
  },
  {
   "cell_type": "markdown",
   "id": "6add2b5b",
   "metadata": {},
   "source": [
    "List syntax:\n",
    "\n",
    "    [element, element, element, ...]"
   ]
  },
  {
   "cell_type": "code",
   "execution_count": null,
   "id": "0ab320fe",
   "metadata": {},
   "outputs": [],
   "source": [
    "[\"a\",\"b\",\"c\"] # list (contains multiple items called elements)\n",
    "# 0   1   2   # indexes (are used to access each element)"
   ]
  },
  {
   "cell_type": "code",
   "execution_count": null,
   "id": "24f3bbce",
   "metadata": {},
   "outputs": [],
   "source": [
    "[None, None, None]              # List Literal containing multiple Null Types\n",
    "[True, False, True]             # List Literal containing multiple booleans\n",
    "[42, 123, -7]                   # List Literal containing multiple integers\n",
    "[3.14, 2.718, 0.5]              # List Literal containing multiple floats\n",
    "[2 + 3j, 1 - 1j, 5j]            # List Literal containing multiple complex numbers\n",
    "['a', 'b', 'c']                 # List Literal containing multiple characters \n",
    "['hello', 'world', 'python']    # List Literal containing multiple strings\n",
    "\n",
    "[1, 3.14, 'grape', False, (2+3j), 'kiwi'] # List Literal containing multiple types"
   ]
  },
  {
   "cell_type": "markdown",
   "id": "1c496c7b",
   "metadata": {},
   "source": [
    "**Tuple Literals <class 'tuple'>**\n",
    "* A tuple is a collection of comma seperated data, that is ordered, immutable, and allows duplicate members.\n",
    "* Ordered meaning indexed\n",
    "* Immutable meaning its value can NOT be changed\n",
    "* Duplicate members meaning values can be the same.\n",
    "* Each item stored in a tuple is called an element\n",
    "\n",
    "Tuples are denoted with parenthesis ()"
   ]
  },
  {
   "cell_type": "markdown",
   "id": "2211b338",
   "metadata": {},
   "source": [
    "Tuple syntax:\n",
    "\n",
    "    (element, element, element, ...)"
   ]
  },
  {
   "cell_type": "code",
   "execution_count": null,
   "id": "6f1da6fb",
   "metadata": {},
   "outputs": [],
   "source": [
    "(\"a\",\"b\",\"c\") # tuple (contains multiple items called elements)\n",
    "# 0   1   2   # indexes (are used to access each element)"
   ]
  },
  {
   "cell_type": "code",
   "execution_count": null,
   "id": "8f253a4a",
   "metadata": {},
   "outputs": [],
   "source": [
    "(None, None, None)              # Tuple Literal containing multiple Nones\n",
    "(True, False, True)             # Tuple Literal containing multiple booleans\n",
    "(42, 123, -7)                   # Tuple Literal containing multiple integers\n",
    "(3.14, 2.718, 0.5)              # Tuple Literal containing multiple floats\n",
    "(2 + 3j, 1 - 1j, 5j)            # Tuple Literal containing multiple complex numbers\n",
    "('a', 'b', 'c')                 # Tuple Literal containing multiple characters (represented as strings)\n",
    "('hello', 'world', 'python')    # Tuple Literal containing multiple strings\n",
    "\n",
    "(5, 6.7, 'orange', True, (7+8j)) # Tuple Literal containing multiple types"
   ]
  },
  {
   "cell_type": "markdown",
   "id": "6d7fea09",
   "metadata": {},
   "source": [
    "**Set Literals <class 'set'>**\n",
    "* A set is a collection of comma seperated data that is unordered, unchangeable, unindexed, and does not allow duplicate members.\n",
    "* Unordered meaning no fixed order for the elements\n",
    "* Unchangeable meaning values cannot be changed\n",
    "* NO duplicate members meaning values cannot be repeated\n",
    "\n",
    "Sets are denoted with curly braces {}"
   ]
  },
  {
   "cell_type": "markdown",
   "id": "2bb1cad1",
   "metadata": {},
   "source": [
    "Set syntax:\n",
    "\n",
    "    {element, element, element, ...}"
   ]
  },
  {
   "cell_type": "code",
   "execution_count": null,
   "id": "5de40361",
   "metadata": {},
   "outputs": [],
   "source": [
    "{None}                          # Set literal Containing a Null Type\n",
    "{False, True}                   # Set literal Containing booleans\n",
    "{42, 123, -7}                   # Set literal Containing integers\n",
    "{0.5, 2.718, 3.14}              # Set literal Containing floats\n",
    "{(1-1j), (2+3j), 5j}            # Set literal Containing complex numbers\n",
    "{'b', 'a', 'c'}                 # Set literal Containing characters\n",
    "{'python', 'hello', 'world'}    # Set literal Containing strings"
   ]
  },
  {
   "cell_type": "markdown",
   "id": "ff134e34",
   "metadata": {},
   "source": [
    "**Dictionary Literals <class 'dict'>**\n",
    "* A dictionary is a collection of comma seperated key:value pairs that is ordered**, mutable, and allows NO duplicate members.\n",
    "* Ordered meaning the values maintain thier order in the dictionary\n",
    "* Mutable meaning the members can be update, added, or deleted\n",
    "* NO duplicates meaning that key values cannot be repeated\n",
    "\n",
    "Dictionaries are denoted using curly braces {}  "
   ]
  },
  {
   "cell_type": "markdown",
   "id": "342e36c0",
   "metadata": {},
   "source": [
    "Dictionary syntax:\n",
    "\n",
    "    {key:value, key:value, key:value, ...}"
   ]
  },
  {
   "cell_type": "code",
   "execution_count": null,
   "id": "83f55dd9",
   "metadata": {},
   "outputs": [],
   "source": [
    "{'apple': 5, 'banana': 3, 'orange': 7}                      # Dictionary Literal with String Keys, and Integer Values\n",
    "\n",
    "{1: 'one', 2: 'two', 3: 'three'}                            # Dictionary Literal with Integer Keys, and String Values\n",
    "\n",
    "{('a', 'b'): [1, 2, 3], ('x', 'y'): ['foo', 'bar']}         # Dictionary Literal with Tuple Keys, and List Values\n",
    "\n",
    "{3.14: True, 2.718: False}                                  # Dictionary Literal with Float Keys, and Boolean Values\n",
    "\n",
    "{True: {'a': 1, 'b': 2}, False: {'x': 10, 'y': 20}}         # Dictionary Literal with Boolean Keys, and Dictionary Values\n",
    "\n",
    "{'name': 'John', 42: 'answer', (1, 2): ['tuple', 'values']} # Dictionary Mixed Type Key:Value pairs"
   ]
  }
 ],
 "metadata": {
  "kernelspec": {
   "display_name": "Python 3 (ipykernel)",
   "language": "python",
   "name": "python3"
  },
  "language_info": {
   "codemirror_mode": {
    "name": "ipython",
    "version": 3
   },
   "file_extension": ".py",
   "mimetype": "text/x-python",
   "name": "python",
   "nbconvert_exporter": "python",
   "pygments_lexer": "ipython3",
   "version": "3.12.2"
  }
 },
 "nbformat": 4,
 "nbformat_minor": 5
}
