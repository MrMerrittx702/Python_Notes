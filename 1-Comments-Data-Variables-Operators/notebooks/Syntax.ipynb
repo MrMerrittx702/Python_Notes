{
 "cells": [
  {
   "cell_type": "markdown",
   "metadata": {},
   "source": [
    "# Syntax "
   ]
  },
  {
   "cell_type": "markdown",
   "metadata": {},
   "source": [
    "## General Syntax\n",
    "\n",
    "* Syntax: rules for writing a language\n",
    "* Code is executed from top to bottom, left to right, line by line.\n",
    "<pre>\n",
    "Python code is executed from top to bottom, left to right, and line by line.   \n",
    "1 Top,Left >>>>>>>>>>>>>>>>>>>>>>>>>>>>>>>>>>>>>>>>>>>>>>>>> Top,Right>  \n",
    "2     V  \n",
    "3        V  \n",
    "4            V  \n",
    "5                V  Python  \n",
    "6                    V  Requires  \n",
    "7                        V  Indentation  \n",
    "8                            V  In Its  \n",
    "9                                V  Syntax  \n",
    "10                                   V   \n",
    "11                                       V  \n",
    "12                                            V  \n",
    "13                                                 V  \n",
    "14                                                     V  \n",
    "15                                                         V  \n",
    "16                                                             V  \n",
    "17                                                                 V  \n",
    "18 Bottom,Left >>>>>>>>>>>>>>>>>>>>>>>>>>>>>>>>>>>>>>>>>>> Bottom,Right> \n",
    "</pre> "
   ]
  },
  {
   "cell_type": "markdown",
   "metadata": {},
   "source": [
    "#### **Every Opening Needs a Closing: '', \"\", (), [], {}**"
   ]
  },
  {
   "cell_type": "code",
   "execution_count": null,
   "metadata": {},
   "outputs": [],
   "source": [
    "'' # single quotes\n",
    "\"\" # double quotes\n",
    "() # parenthesis\n",
    "[] # square brackets\n",
    "{} # curly braces"
   ]
  },
  {
   "cell_type": "markdown",
   "metadata": {},
   "source": [
    "## **Indentation is required in Python:** \n",
    "#### \"if,elif,else,while,for,def,class,etc.\"\n",
    "Indentation is used to define scope or context of blocks of code."
   ]
  },
  {
   "cell_type": "code",
   "execution_count": null,
   "metadata": {},
   "outputs": [],
   "source": [
    "... # > used as place holder"
   ]
  },
  {
   "cell_type": "code",
   "execution_count": null,
   "metadata": {},
   "outputs": [],
   "source": [
    "'Conditionals'\n",
    "if(...):\n",
    "    ... #indented code block\n",
    "    \n",
    "#unindent to exit scope\n",
    "elif(...):\n",
    "    ... #indented code block\n",
    "\n",
    "#unindent to exit scope\n",
    "else:\n",
    "    ... #indented code block\n",
    "\n",
    "#unindent to exit scope"
   ]
  },
  {
   "cell_type": "code",
   "execution_count": null,
   "metadata": {},
   "outputs": [],
   "source": [
    "'While Loops'\n",
    "while(...):\n",
    "    ... #indented code block\n",
    "    \n",
    "#unindent to exit scope"
   ]
  },
  {
   "cell_type": "code",
   "execution_count": null,
   "metadata": {},
   "outputs": [],
   "source": [
    "'For Loops'\n",
    "for _ in ...:\n",
    "    ... #indented code block\n",
    "    \n",
    "#unindent to exit scope\n"
   ]
  },
  {
   "cell_type": "code",
   "execution_count": null,
   "metadata": {},
   "outputs": [],
   "source": [
    "'Function Definitions'\n",
    "def function():\n",
    "    ... #indented code block\n",
    "    \n",
    "#unindent to exit scope"
   ]
  },
  {
   "cell_type": "code",
   "execution_count": null,
   "metadata": {},
   "outputs": [],
   "source": [
    "'Class Definitions'\n",
    "class foo():\n",
    "    ... #indented code block\n",
    "    \n",
    "#unindent to exit scope"
   ]
  },
  {
   "cell_type": "markdown",
   "metadata": {},
   "source": [
    "## Python Programming Style Guide\n",
    "Use 4-space indentation, and no tabs. Editors like VSCode automatically covert for you.  \n",
    "* 4 spaces are a good compromise between small indentation (allows greater nesting depth) and large indentation (easier to read). \n",
    "* Tabs introduce confusion, and are best left out.  \n",
    "\n",
    "Wrap lines so that they don't exceed 79 characters.  \n",
    "\n",
    "Use blank lines to separate functions and classes, and larger blocks of code inside functions.  \n",
    "\n",
    "When possible, put comments on a line of their own.  \n",
    "\n",
    "Use docstrings to document functions and classes.  \n",
    "\n",
    "Use spaces around operators and after commas, but not directly inside bracketing constructs:  \n",
    "    \n",
    "    a = f(1, 2) + g(3, 4)\n",
    "    \n",
    "Name your classes and functions consistently; the convention is to\n",
    "* UpperCamelCase for classes\n",
    "* lower_snake_case for functions and methods.\n",
    "* Always use self as the name for the first method argument"
   ]
  },
  {
   "cell_type": "markdown",
   "metadata": {},
   "source": [
    "# To a computer code is either perfectly written or it is wrong"
   ]
  }
 ],
 "metadata": {
  "language_info": {
   "name": "python"
  }
 },
 "nbformat": 4,
 "nbformat_minor": 2
}
