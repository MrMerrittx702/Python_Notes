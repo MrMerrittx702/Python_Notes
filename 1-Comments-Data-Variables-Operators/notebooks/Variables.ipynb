{
 "cells": [
  {
   "cell_type": "markdown",
   "metadata": {},
   "source": [
    "# Variables\n",
    "* variables act like containers that store literal data\n",
    "* however, variables actually work by referencing (pointing to) a location in memory where the literal data is stored  \n",
    "* The data a variable points to can change"
   ]
  },
  {
   "cell_type": "markdown",
   "metadata": {},
   "source": [
    "#### Creating a Variable\n",
    "* write the name of the variable then a single equal sign **=**\n",
    "* a single equals sign **=**is used to assign a variable to the data it references"
   ]
  },
  {
   "cell_type": "markdown",
   "metadata": {},
   "source": [
    "Variable Creation Syntax:\n",
    "\n",
    "    variable = value"
   ]
  },
  {
   "cell_type": "code",
   "execution_count": null,
   "metadata": {},
   "outputs": [],
   "source": [
    "a = \"Hello World\"\n",
    "b = 5\n",
    "c = 3.14\n",
    "d = False\n",
    "e = [\"a\",\"b\",\"c\"]\n",
    "\n",
    "# a, b, c, d, e are variables"
   ]
  },
  {
   "cell_type": "markdown",
   "metadata": {},
   "source": [
    "**Multiple Variables can be assigned the same value**"
   ]
  },
  {
   "cell_type": "code",
   "execution_count": null,
   "metadata": {},
   "outputs": [],
   "source": [
    "a = b = c = 1\n",
    "#a, b, and c, all reference the same data --> 1"
   ]
  },
  {
   "cell_type": "markdown",
   "metadata": {},
   "source": [
    "**Multiple Variables can be assigned on the same line**"
   ]
  },
  {
   "cell_type": "code",
   "execution_count": null,
   "metadata": {},
   "outputs": [],
   "source": [
    "f = 2; g = 3; h = 4"
   ]
  },
  {
   "cell_type": "markdown",
   "metadata": {},
   "source": [
    "OR"
   ]
  },
  {
   "cell_type": "code",
   "execution_count": null,
   "metadata": {},
   "outputs": [],
   "source": [
    "i, j, k = 5, 6, 7\n",
    "# i = 5, j = 6, k = 7"
   ]
  },
  {
   "cell_type": "markdown",
   "metadata": {},
   "source": [
    "#### Reassigning a Variable\n",
    "*reassigning a variable, is changing the value the variable references (points to) in memory"
   ]
  },
  {
   "cell_type": "code",
   "execution_count": null,
   "metadata": {},
   "outputs": [],
   "source": [
    "num = 1\n",
    "#at this point in the program num is 1\n",
    "\n",
    "num = 2 \n",
    "# at this point in the program num is 2\n",
    "\n",
    "print(num) # Output: 2"
   ]
  },
  {
   "cell_type": "markdown",
   "metadata": {},
   "source": [
    "#### Rules for Naming Variables\n",
    "*They are case sensitive (a and A are not the same)\n",
    "* Must start with letter or underscore \"_\"\n",
    "* Cannot start with a number \n",
    "* Can only contain a-z, A-Z, 0-9, and \"_\" characters\n",
    "* Cannot contain spaces\n",
    "* Variables should be named after what they store/reference"
   ]
  },
  {
   "cell_type": "markdown",
   "metadata": {},
   "source": [
    "Legal Variable Names"
   ]
  },
  {
   "cell_type": "code",
   "execution_count": null,
   "metadata": {},
   "outputs": [],
   "source": [
    "var = 0\n",
    "_var = 0\n",
    "_v_ar = 0\n",
    "vAr = 0\n",
    "VAR = 0\n",
    "var1 = 0 "
   ]
  },
  {
   "cell_type": "markdown",
   "metadata": {},
   "source": [
    "Illegal Variable Names"
   ]
  },
  {
   "cell_type": "code",
   "execution_count": null,
   "metadata": {},
   "outputs": [],
   "source": [
    "1var = 0\n",
    "v-ar = 0\n",
    "v ar = 0 \n",
    "!var = 0\n",
    "@#$%@ = 0\n",
    "\n",
    "#each of these will result in an error"
   ]
  },
  {
   "cell_type": "markdown",
   "metadata": {},
   "source": [
    "#### Variables are pointers to locations in memory\n",
    "* We can visualize this idea using the id() function call\n",
    "* Use the id() function call to return the memory location to which variable points.\n",
    "* Returns a integer *<class 'int'>* that is a unique identifier for a location in memory where the data is stored.\n",
    "* The number will potentially be different each time the program is executed. "
   ]
  },
  {
   "cell_type": "code",
   "execution_count": null,
   "metadata": {},
   "outputs": [],
   "source": [
    "memory_pointer = \"Hello World\"\n",
    "id(memory_pointer) # Returns: 139029363861936\n",
    "\n",
    "memory_pointer = 10\n",
    "id(memory_pointer) # Returns: 139029373780496\n",
    "\n",
    "# id() returns the memory location of the data to which a variable points \n",
    "# The value that is returned will be different from the examples above"
   ]
  },
  {
   "cell_type": "markdown",
   "metadata": {},
   "source": [
    "#### Variable Alias\n",
    "* assigning one variable to another variable is called aliasing\n",
    "* when you assign one variable to another both variables point to the same location in memory.\n",
    "* the variables pass a reference to the data they store"
   ]
  },
  {
   "cell_type": "code",
   "execution_count": null,
   "metadata": {},
   "outputs": [],
   "source": [
    "a = \"some text\"\n",
    "#a, b, and c are aliases (ie they point to the same data)\n",
    "b = a \n",
    "c = b\n",
    "\n",
    "print(a)     # some text\n",
    "print(b)     # some text\n",
    "print(c)     # some text\n",
    "\n",
    "print(id(a)) # 125810368587504 <-- Same Memory Location\n",
    "print(id(b)) # 125810368587504 <-- Same Memory Location\n",
    "print(id(c)) # 125810368587504 <-- Same Memory Location"
   ]
  },
  {
   "cell_type": "code",
   "execution_count": null,
   "metadata": {},
   "outputs": [],
   "source": [
    "# Pointing the variable 'a' to a new value\n",
    "a = \"a was changed\"\n",
    "\n",
    "print(a)     # a was changed\n",
    "print(b)     # some text\n",
    "print(c)     # some text\n",
    "\n",
    "print(id(a)) # 125810368883120 <-- New Memory Location\n",
    "print(id(b)) # 125810368587504 <-- Same Memory Location\n",
    "print(id(c)) # 125810368587504 <-- Same Memory Location\n"
   ]
  },
  {
   "cell_type": "code",
   "execution_count": null,
   "metadata": {},
   "outputs": [],
   "source": [
    "# Pointing the variable 'b' to a new value\n",
    "b = \"b was changed\"\n",
    "\n",
    "print(a)     # a was changed\n",
    "print(b)     # b was changed\n",
    "print(c)     # some text\n",
    "\n",
    "print(id(a)) # 125810368883120\n",
    "print(id(b)) # 125810368882544 <-- New Memory location\n",
    "print(id(c)) # 125810368587504 "
   ]
  },
  {
   "cell_type": "code",
   "execution_count": null,
   "metadata": {},
   "outputs": [],
   "source": [
    "# Pointing the variable 'c' to a new value.\n",
    "c = \"c was changed\"\n",
    "\n",
    "print(a)     # a was changed\n",
    "print(b)     # b was changed\n",
    "print(c)     # c was changed\n",
    "\n",
    "print(id(a)) # 125810368883120 <-- Different Memory Location\n",
    "print(id(b)) # 125810368882544 <-- Different Memory Location \n",
    "print(id(c)) # 125810368880496 <-- Different Memory Location"
   ]
  },
  {
   "cell_type": "code",
   "execution_count": null,
   "metadata": {},
   "outputs": [],
   "source": [
    "# If variables point to the same mutable data type: \n",
    "# a change in the data is reflected in all the variables. \n",
    "a = [1,2,3]\n",
    "b = a\n",
    "c = b\n",
    "\n",
    "c[0] = 999\n",
    "\n",
    "print(a)     # [999, 2, 3]\n",
    "print(b)     # [999, 2, 3]\n",
    "print(c)     # [999, 2, 3]\n",
    "\n",
    "print(id(a)) # 125810368584576 <-- Same Memory Location \n",
    "print(id(b)) # 125810368584576 <-- Same Memory Location\n",
    "print(id(c)) # 125810368584576 <-- Same Memory Location\n"
   ]
  },
  {
   "cell_type": "markdown",
   "metadata": {},
   "source": [
    "**NameError: name is not defined.**\n",
    "* if you attempt to use a variable name that was never assigned a value, a NameError is raised"
   ]
  },
  {
   "cell_type": "code",
   "execution_count": null,
   "metadata": {},
   "outputs": [],
   "source": [
    "print(var) #NameError: name 'var' is not defined."
   ]
  },
  {
   "cell_type": "markdown",
   "metadata": {},
   "source": [
    "#### Type Annotations: Declaring Variable Type\n",
    "* Type Annotation is a way to declare the type of data the variable is expected to store\n",
    "* Type Annotation is not enforced by the interpreter"
   ]
  },
  {
   "cell_type": "markdown",
   "metadata": {},
   "source": [
    "Type Annotation Syntax\n",
    "\n",
    "    variable: type = value"
   ]
  },
  {
   "cell_type": "code",
   "execution_count": null,
   "metadata": {},
   "outputs": [],
   "source": [
    "boolean: bool = True\n",
    "\n",
    "num: int = 10\n",
    "\n",
    "flo: float = 3.14\n",
    "\n",
    "imaginary: complex = 1j\n",
    "\n",
    "string: str = \"Hello World\"\n",
    "\n",
    "list1d: list = [\"a\",\"b\",\"c\"]\n",
    "\n",
    "tuple1d: tuple = (\"a\",\"b\",\"c\")\n",
    "\n",
    "set1d: set = {\"a\",\"b\",\"c\"}\n",
    "\n",
    "dictionary: dict = {\"a\": 97, \"b\": 98, \"c\":99}"
   ]
  },
  {
   "cell_type": "markdown",
   "metadata": {},
   "source": [
    "#### Variable Scope/Context\n",
    "* Variables have a scope in which they can be accessed and used.\n",
    "* Variable Scope can be global, local, or nonlocal\n",
    "* The global keyword can be used to access and modify global variables\n",
    "* The nonlocal keyword can be used to access on scope up\n",
    "* Python looks for variables by searching from the most local scope, to the least local scope.\n",
    "\n",
    "Scope/Context:  \n",
    "Scope or Context refers to the visibility and accessibility of variables, functions, and other identifiers within a program.   \n",
    "It defines where variables and functions can be accessed and modified, determining their lifetime and visibility.\n",
    "\n",
    "\n",
    "Namespace:\n",
    "a mapping of names (variables) to objects, there are built-in, global and local namespaces."
   ]
  },
  {
   "cell_type": "markdown",
   "metadata": {},
   "source": [
    "**Built-in Namespace**\n",
    "* contains all of the built-in names provided by defualt\n"
   ]
  },
  {
   "cell_type": "markdown",
   "metadata": {},
   "source": [
    "Use the dir() function to see the current local namespace"
   ]
  },
  {
   "cell_type": "code",
   "execution_count": null,
   "metadata": {},
   "outputs": [],
   "source": [
    "# dir() returns a list of the current local namespace\n",
    "namespace = dir()\n",
    "print(namespace)\n",
    "\n",
    "# Outputs: \n",
    "['__annotations__', '__builtins__', '__cached__', '__doc__', '__file__', '__loader__', '__name__', '__package__', '__spec__']"
   ]
  },
  {
   "cell_type": "markdown",
   "metadata": {},
   "source": [
    "Add the \\_\\_builtins\\_\\_ argument to see the built-in namespace"
   ]
  },
  {
   "cell_type": "code",
   "execution_count": null,
   "metadata": {},
   "outputs": [],
   "source": [
    "# dir(__builtins__) returns a list of built-in names\n",
    "builtin_namespace = dir(__builtins__)\n",
    "print(builtin_namespace)\n",
    "\n",
    "#Returns:\n",
    "['ArithmeticError', 'AssertionError', 'AttributeError', 'BaseException', 'BlockingIOError', 'BrokenPipeError', \n",
    " 'BufferError', 'BytesWarning', 'ChildProcessError', 'ConnectionAbortedError', 'ConnectionError', 'ConnectionRefusedError', \n",
    " 'ConnectionResetError', 'DeprecationWarning', 'EOFError', 'Ellipsis', 'EncodingWarning', 'EnvironmentError', 'Exception', \n",
    " 'False', 'FileExistsError', 'FileNotFoundError', 'FloatingPointError', 'FutureWarning', 'GeneratorExit', 'IOError', \n",
    " 'ImportError', 'ImportWarning', 'IndentationError', 'IndexError', 'InterruptedError', 'IsADirectoryError', 'KeyError', \n",
    " 'KeyboardInterrupt', 'LookupError', 'MemoryError', 'ModuleNotFoundError', 'NameError', 'None', 'NotADirectoryError', \n",
    " 'NotImplemented', 'NotImplementedError', 'OSError', 'OverflowError', 'PendingDeprecationWarning', 'PermissionError', \n",
    " 'ProcessLookupError', 'RecursionError', 'ReferenceError', 'ResourceWarning', 'RuntimeError', 'RuntimeWarning', 'StopAsyncIteration', \n",
    " 'StopIteration', 'SyntaxError', 'SyntaxWarning', 'SystemError', 'SystemExit', 'TabError', 'TimeoutError', 'True', 'TypeError', \n",
    " 'UnboundLocalError', 'UnicodeDecodeError', 'UnicodeEncodeError', 'UnicodeError', 'UnicodeTranslateError', 'UnicodeWarning', \n",
    " 'UserWarning', 'ValueError', 'Warning', 'ZeroDivisionError', '__build_class__', '__debug__', '__doc__', '__import__', '__loader__', \n",
    " '__name__', '__package__', '__spec__', 'abs', 'aiter', 'all', 'anext', 'any', 'ascii', 'bin', 'bool', 'breakpoint', 'bytearray', \n",
    " 'bytes', 'callable', 'chr', 'classmethod', 'compile', 'complex', 'copyright', 'credits', 'delattr', 'dict', 'dir', 'divmod', 'enumerate', \n",
    " 'eval', 'exec', 'exit', 'filter', 'float', 'format', 'frozenset', 'getattr', 'globals', 'hasattr', 'hash', 'help', 'hex', 'id', 'input', \n",
    " 'int', 'isinstance', 'issubclass', 'iter', 'len', 'license', 'list', 'locals', 'map', 'max', 'memoryview', 'min', 'next', 'object', 'oct', \n",
    " 'open', 'ord', 'pow', 'print', 'property', 'quit', 'range', 'repr', 'reversed', 'round', 'set', 'setattr', 'slice', 'sorted', 'staticmethod', \n",
    " 'str', 'sum', 'super', 'tuple', 'type', 'vars', 'zip']\n"
   ]
  },
  {
   "cell_type": "markdown",
   "metadata": {},
   "source": [
    "**Global Namespace and Scope**\n",
    "* any variable created inside of a file (module), but not inside of another construct (function, class, etc.) has a global scope.  \n",
    "* called a global variable"
   ]
  },
  {
   "cell_type": "code",
   "execution_count": null,
   "metadata": {},
   "outputs": [],
   "source": [
    "\n",
    "num = 10 #global variable\n",
    "\n",
    "\n",
    "\n",
    "print(dir()) \n",
    "#Outputs:\n",
    "['__annotations__', '__builtins__', '__cached__', '__doc__', '__file__', '__loader__', '__name__', '__package__', '__spec__', 'num']\n",
    "#                                                                     'num' has been added to the global scope for this module ^^^"
   ]
  },
  {
   "cell_type": "markdown",
   "metadata": {},
   "source": [
    "Unlike other languages, variables created inside of a Conditional, or Loop are accessible outside of that construct."
   ]
  },
  {
   "cell_type": "markdown",
   "metadata": {},
   "source": [
    "    Conditionals"
   ]
  },
  {
   "cell_type": "code",
   "execution_count": null,
   "metadata": {},
   "outputs": [],
   "source": [
    "#if example\n",
    "if(False): \n",
    "    x = \"x\"\n",
    "    y = \"y\"\n",
    "    #here the if block does not execute\n",
    "    # x and y are never defined\n",
    "\n",
    "# This leads to an error:\n",
    "print(x) # NameError: name 'x' is not defined\n",
    "print(y) # NameError: name 'y' is not defined"
   ]
  },
  {
   "cell_type": "code",
   "execution_count": null,
   "metadata": {},
   "outputs": [],
   "source": [
    "if(True):\n",
    "    x = \"x\"\n",
    "    y = \"y\"\n",
    "    #here the block executes so x and y are now defined \n",
    "\n",
    "#Outside of the if x and y can still be printed\n",
    "print(x) # x\n",
    "print(y) # y"
   ]
  },
  {
   "cell_type": "markdown",
   "metadata": {},
   "source": [
    "    While loops"
   ]
  },
  {
   "cell_type": "code",
   "execution_count": null,
   "metadata": {},
   "outputs": [],
   "source": [
    "i = 0\n",
    "while(i<1):\n",
    "    var = \"while\"\n",
    "    i += 1\n",
    "    #here variable is defined inside the while \n",
    "\n",
    "#Here 'var' can be accessed and printed outside of the while loop\n",
    "print(var) # Output: while"
   ]
  },
  {
   "cell_type": "markdown",
   "metadata": {},
   "source": [
    "    For Loops"
   ]
  },
  {
   "cell_type": "code",
   "execution_count": null,
   "metadata": {},
   "outputs": [],
   "source": [
    "for num in range(5):\n",
    "    var = \"for\"\n",
    "    #both 'num' and 'var' have been defined in the for loop \n",
    "\n",
    "#Here both 'num' and 'var' can both be accessed outside of the loop\n",
    "print(num) #Output: 4\n",
    "print(var) #Output: for"
   ]
  },
  {
   "cell_type": "markdown",
   "metadata": {},
   "source": [
    "**Local Namespace and Scope**\n",
    "* variables created inside of a Function, Class, etc. is local to that construct"
   ]
  },
  {
   "cell_type": "markdown",
   "metadata": {},
   "source": [
    "    Functions"
   ]
  },
  {
   "cell_type": "code",
   "execution_count": null,
   "metadata": {},
   "outputs": [],
   "source": [
    "def example(parameter):\n",
    "    var = \"inside function\"\n",
    "    print(parameter)  #Outputs the value of parameter\n",
    "    print(var)        #Output: inside function\n",
    "\n",
    "    print(dir()) #Output: ['parameter', 'var']\n",
    "    #'parameter' and 'var' exist in this namespace (local to example)\n",
    "\n",
    "example(\"argument\")  # even if you call the function before 'parameter' and 'var' are not accessible\n",
    "\n",
    "\n",
    "print(dir())\n",
    "#Output:\n",
    "['__annotations__', '__builtins__', '__cached__', '__doc__', '__file__', '__loader__', '__name__', '__package__', '__spec__', 'example']\n",
    "# notice that 'parameter' and 'var' do not exist in this namespace (global)\n",
    "\n",
    "\n",
    "print(parameter)    #NameError: name 'parameter' is not defined\n",
    "print(var)          #NameError: name 'var' is not defined"
   ]
  },
  {
   "cell_type": "markdown",
   "metadata": {},
   "source": [
    "    Classes"
   ]
  },
  {
   "cell_type": "code",
   "execution_count": null,
   "metadata": {},
   "outputs": [],
   "source": [
    "class Example:\n",
    "    #local to the class Example\n",
    "    var = \"Class\" \n",
    "    print(var) # Class\n",
    "\n",
    "\n",
    "    print(dir()) # Output: ['__module__', '__qualname__', 'var']\n",
    "    # 'var' exists in this namespace (local to Example)\n",
    "\n",
    "\n",
    "\n",
    "\n",
    "print(dir()) \n",
    "# Output: \n",
    "['Example', '__annotations__', '__builtins__', '__cached__', '__doc__', '__file__', '__loader__', '__name__', '__package__', '__spec__']\n",
    "# notice that 'var' does not exist in this namespace (global)\n",
    "\n",
    "\n",
    "\n",
    "print(var) #NameError: name 'var' is not defined\n",
    "\n",
    "#var is only accessible inside of Example, or through Example, or through an instance of Example\n",
    "\n"
   ]
  },
  {
   "cell_type": "markdown",
   "metadata": {},
   "source": [
    "    global keyword\n",
    "* the global keyword is used to access and modify a global scope variable inside of a local scope"
   ]
  },
  {
   "cell_type": "code",
   "execution_count": null,
   "metadata": {},
   "outputs": [],
   "source": [
    "text = \"I am global\"\n",
    "\n",
    "def example():\n",
    "    text = \"I am local\"\n",
    "\n",
    "example() #function call\n",
    "\n",
    "print(text)# Output: I am global\n",
    "#prints the global 'text', not the local 'text'"
   ]
  },
  {
   "cell_type": "code",
   "execution_count": null,
   "metadata": {},
   "outputs": [],
   "source": [
    "text = \"I am global\"\n",
    "\n",
    "def example():\n",
    "    global text #access the global 'text'\n",
    "\n",
    "    text = \"Made a local change\"\n",
    "    # this 'text' is the global 'text'\n",
    "    \n",
    "\n",
    "print(text) # Output: I am global\n",
    "\n",
    "example()   # Changes only occur after the function has been called. \n",
    "\n",
    "print(text) # Output: Made a local change"
   ]
  },
  {
   "cell_type": "markdown",
   "metadata": {},
   "source": [
    "    nonlocal keyword\n",
    "* use the nonlocal keyword to access 1 scope up"
   ]
  },
  {
   "cell_type": "code",
   "execution_count": null,
   "metadata": {},
   "outputs": [],
   "source": [
    "text = \"I am global\"\n",
    "\n",
    "def outer():\n",
    "    text = \"I am nonlocal to inner\"\n",
    "\n",
    "    def inner():\n",
    "        nonlocal text\n",
    "        text =\"Changed the nonlocal text\"\n",
    "\n",
    "    inner()\n",
    "\n",
    "    print(text) #Output: Changed the nonlocal text\n",
    "\n",
    "outer()\n",
    "\n",
    "print(text) # Output: I am global"
   ]
  },
  {
   "cell_type": "markdown",
   "metadata": {},
   "source": [
    "    Special Scoping Errors"
   ]
  },
  {
   "cell_type": "code",
   "execution_count": null,
   "metadata": {},
   "outputs": [],
   "source": [
    "x = 'global'\n",
    "\n",
    "def example():\n",
    "    print(x) # Output: global \n",
    "    # accesses 'x' 1 scope out no problem\n",
    "\n",
    "example()"
   ]
  },
  {
   "cell_type": "markdown",
   "metadata": {},
   "source": [
    "UnboundLocalError: local variable referenced before assignment"
   ]
  },
  {
   "cell_type": "code",
   "execution_count": null,
   "metadata": {},
   "outputs": [],
   "source": [
    "x = \"global\"\n",
    "\n",
    "def example():\n",
    "    print(x) #UnboundLocalError: local variable 'x' referenced before assignment\n",
    "    x = \"Change global x\"\n",
    "\n",
    "#Python assumes that since you created a local 'x' you ment to print the local 'x' and not the global 'x'\n",
    "example()  "
   ]
  }
 ],
 "metadata": {
  "language_info": {
   "name": "python"
  }
 },
 "nbformat": 4,
 "nbformat_minor": 2
}
