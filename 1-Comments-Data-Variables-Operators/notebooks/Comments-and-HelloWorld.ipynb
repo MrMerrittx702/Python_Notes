{
 "cells": [
  {
   "cell_type": "markdown",
   "id": "393fdf41-5cd7-4636-83f0-bf5720b250bc",
   "metadata": {},
   "source": [
    "# Script Kiddie's First Python Program\n",
    "\n",
    "As a new programmer you might be refered to as a Script Kiddie.   \n",
    "This is a programmer joke to describe someone who does not know much about programming  \n",
    "Script Kiddies often use code they do not understand written by other programmers  \n",
    "\n",
    "**Welcome to the Python Programming Language.**  \n",
    "Python is an interpreted procedural object oriented programming language  \n",
    "Python files have the (.py) extension.  "
   ]
  },
  {
   "cell_type": "markdown",
   "id": "5a60b4aa-a818-41f5-abf6-f7cfd6ac2229",
   "metadata": {},
   "source": [
    "### Covered in this file:\n",
    "1. Single/Multi Line Comments\n",
    "2. First Program: Console Output\n",
    "3. First Program: User Input\n",
    "4. Executing Python Programs"
   ]
  },
  {
   "cell_type": "markdown",
   "id": "760d34b2-85cb-46f3-b42d-44d23cccf694",
   "metadata": {},
   "source": [
    "### Single/Multi Line Comments"
   ]
  },
  {
   "cell_type": "code",
   "execution_count": null,
   "id": "aa19647f-782e-4d2f-ba79-2a454497cb2d",
   "metadata": {},
   "outputs": [],
   "source": [
    "# this is a single line comment\n",
    "# use a '#' hash tag to make a single line comment in python"
   ]
  },
  {
   "cell_type": "code",
   "execution_count": null,
   "id": "19bb53aa-cf20-4a14-a441-258d2636e7b7",
   "metadata": {},
   "outputs": [],
   "source": [
    "'''\n",
    "use three single quotes to make a multi line comment\n",
    "called \n",
    "a \n",
    "docstring\n",
    "'''\n",
    "\n",
    "\"\"\"\n",
    "You \n",
    "    can \n",
    "        also \n",
    "            use \n",
    "                three \n",
    "                    double \n",
    "                        quotes \n",
    "\"\"\""
   ]
  },
  {
   "cell_type": "markdown",
   "id": "2e5241fb-524f-415f-bf9e-ffc2d10f20a5",
   "metadata": {},
   "source": [
    "Use Ctrl + / in editors like VScode to make a quick multi-line comment, or to comment out a single line easily"
   ]
  },
  {
   "cell_type": "markdown",
   "id": "2e4dad01-f439-4dc9-8262-8ba683fe7390",
   "metadata": {},
   "source": [
    "### First Program: Console Output\n",
    "To build your first program. Use the built-in print() function call to send output to console (called standard output or stdout)\n",
    "\n",
    " \n"
   ]
  },
  {
   "cell_type": "markdown",
   "id": "711de644-4487-48c8-bb33-7867c90392c1",
   "metadata": {},
   "source": [
    "Here we will print out \"Hello World\".   \n",
    "Literal text must be written in quotes, and is called a string. "
   ]
  },
  {
   "cell_type": "code",
   "execution_count": null,
   "id": "fc151768-045f-4524-9ad2-70b29fd451d0",
   "metadata": {},
   "outputs": [],
   "source": [
    "\"Hello World\""
   ]
  },
  {
   "cell_type": "markdown",
   "id": "50ed42c4-26e6-4fcb-9ca4-1f5da2f6ca44",
   "metadata": {},
   "source": [
    "To print out this text we use the built-in function call 'print()' with the argument \"Hello World\""
   ]
  },
  {
   "cell_type": "code",
   "execution_count": 1,
   "id": "7a3d782f-50a0-4b8e-95af-7416e1174af8",
   "metadata": {
    "scrolled": true
   },
   "outputs": [
    {
     "name": "stdout",
     "output_type": "stream",
     "text": [
      "Hello World\n"
     ]
    }
   ],
   "source": [
    "print(\"Hello World\")"
   ]
  },
  {
   "cell_type": "markdown",
   "id": "dc4a3c41-09de-42ef-ba95-430ce59c3f5f",
   "metadata": {},
   "source": [
    "### First Program: User Input\n",
    "\n",
    "To handle input from a user (called standard input or stdin), use the built-in function call 'input()'"
   ]
  },
  {
   "cell_type": "code",
   "execution_count": null,
   "id": "83185305-98da-4256-bfa7-730e08177563",
   "metadata": {},
   "outputs": [],
   "source": [
    "input()"
   ]
  },
  {
   "cell_type": "markdown",
   "id": "4625936a-af29-4212-a353-301a26dbf7a9",
   "metadata": {},
   "source": [
    "Placing a string argument inside of the 'input()' function call prints out a prompt to tell the user what input to provide"
   ]
  },
  {
   "cell_type": "code",
   "execution_count": null,
   "id": "6582bec7-ad7d-480a-8a9b-b87e8745a1b2",
   "metadata": {},
   "outputs": [],
   "source": [
    "input(\"Type your input: \")"
   ]
  },
  {
   "cell_type": "markdown",
   "id": "ab0b0712-ef33-41b5-98d5-89129f5325b8",
   "metadata": {},
   "source": [
    "If you place the ***input()*** function call inside of the ***print()*** function call the user input will be output back to the console."
   ]
  },
  {
   "cell_type": "code",
   "execution_count": null,
   "id": "d24c3f6b-1a7a-4afe-acbd-5276cd323ef1",
   "metadata": {},
   "outputs": [],
   "source": [
    "print(input(\"Type your input: \"))"
   ]
  },
  {
   "cell_type": "markdown",
   "id": "8e717f8a-1f64-4774-972f-b02997d5d128",
   "metadata": {},
   "source": [
    "### Executing Python Program\n",
    "\n",
    "Congrats you have written your first python program!"
   ]
  },
  {
   "cell_type": "markdown",
   "id": "a1aef044-065e-4ff0-8861-f4047c97a45f",
   "metadata": {},
   "source": [
    "Scource code like this is compiled into byte code by the python interpreter \n",
    "* python.exe on Windows\n",
    "* python3 on Linux or MacOS  \n",
    "\n",
    "Then the python virtual machine PVM executes the bytecode instructions one by one."
   ]
  },
  {
   "cell_type": "markdown",
   "id": "0ae3e0f6-cc6e-46ce-98a7-2f706f077f3c",
   "metadata": {},
   "source": [
    "Python Programs can be executed by invoking the interpreter through the command prompt or python shell.\n",
    "* Windows> python  \n",
    "* Linux \\$ python3  \n",
    "* MacOS \\$ python3  "
   ]
  },
  {
   "cell_type": "markdown",
   "id": "cdf6c156-8f5d-48f0-880a-9bacb671695e",
   "metadata": {},
   "source": [
    "#### **On Windows**\n",
    "Python is installed by default here on Windows depending on the version installed.  \n",
    "    \n",
    "    C:\\Program Files\\Python3xx  \n",
    "    \n",
    "*where xx indicates the current version*   \n",
    "\n",
    "\n",
    "Python may also be installed here for a specific user: \n",
    "\n",
    "    C:\\Users\\USER\\AppData\\Local\\Programs\\Python\\Python3xx\n",
    "\n",
    "    \n",
    "To check the current version type the following on the command line interface\n",
    "\n",
    "    python --version"
   ]
  },
  {
   "cell_type": "markdown",
   "id": "5aa3fbf2-71fd-4e07-a814-a0a2aa8395b2",
   "metadata": {},
   "source": [
    "To execute .py files on windows type the following on the command line interface\n",
    "\n",
    "    python filename.py"
   ]
  },
  {
   "cell_type": "markdown",
   "id": "2a0c5e3d-6f81-4200-8a29-b82de67828da",
   "metadata": {},
   "source": [
    "#### **On Linux or MacOS**\n",
    "  \n",
    "Python is installed by default here on Linux/MacOS depending on the version installed. \n",
    "   \n",
    "    /usr/bin/python3\n",
    "    \n",
    "To check the current version type the following on the command line interface\n",
    "\n",
    "    python3 --version\n",
    "      \n",
    "To execute .py files on linux and Mac type the following on the command line interface\n",
    "\n",
    "    python3 filename.py"
   ]
  }
 ],
 "metadata": {
  "kernelspec": {
   "display_name": "Python 3 (ipykernel)",
   "language": "python",
   "name": "python3"
  },
  "language_info": {
   "codemirror_mode": {
    "name": "ipython",
    "version": 3
   },
   "file_extension": ".py",
   "mimetype": "text/x-python",
   "name": "python",
   "nbconvert_exporter": "python",
   "pygments_lexer": "ipython3",
   "version": "3.12.2"
  }
 },
 "nbformat": 4,
 "nbformat_minor": 5
}
