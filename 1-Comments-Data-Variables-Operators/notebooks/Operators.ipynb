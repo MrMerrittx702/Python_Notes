{
 "cells": [
  {
   "cell_type": "markdown",
   "metadata": {},
   "source": [
    "# Operator\n",
    "\n",
    "Covered in this file:\n",
    "* Concatenation and Duplication (combining strings)\n",
    "* Casting (changing data type)\n",
    "* Arithmetic operators (math)\n",
    "* Relational operators (inequalities)\n",
    "  * Membership operators\n",
    "  * Identity operators\n",
    "* Assignment vs Equality Operator\n",
    "* Compound Assignment Operators\n",
    "* Logical operators (not, and, or)\n",
    "* Compound Logical Expressions and De Morgan's Laws\n",
    "* Built-in Operation Function Calls\n",
    "* Bitwise Operators\n",
    "* Complete Operator Precedence\n"
   ]
  },
  {
   "cell_type": "markdown",
   "metadata": {},
   "source": [
    "#### Concatenation and Duplication\n",
    "* concatenation means \"to join\"\n",
    "* concatenation is used to join strings, and other collection types. \n",
    "\n"
   ]
  },
  {
   "cell_type": "markdown",
   "metadata": {},
   "source": [
    "use the '+' sign to concatenate\n"
   ]
  },
  {
   "cell_type": "code",
   "execution_count": null,
   "metadata": {},
   "outputs": [],
   "source": [
    "\"Hello\" + \"World\"\n",
    "#Result: Hello World\n",
    "\n",
    "print(\"Hello\" + \"World\")\n",
    "#Output: Hello World\n",
    "\n",
    "#Using Variables\n",
    "first = \"Hello\"\n",
    "second = \"World\"\n",
    "print(first + second)\n",
    "#Output: Hello World"
   ]
  },
  {
   "cell_type": "markdown",
   "metadata": {},
   "source": [
    "use the '*' sign to duplicate"
   ]
  },
  {
   "cell_type": "code",
   "execution_count": null,
   "metadata": {},
   "outputs": [],
   "source": [
    "\"a\" * 3\n",
    "# Result: aaa\n",
    "\n",
    "laugh = \"ha\"\n",
    "print(laugh * 3) \n",
    "#Output: hahaha\n"
   ]
  }
 ],
 "metadata": {
  "language_info": {
   "name": "python"
  }
 },
 "nbformat": 4,
 "nbformat_minor": 2
}
